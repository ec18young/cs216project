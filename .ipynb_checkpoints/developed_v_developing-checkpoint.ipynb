{
 "cells": [
  {
   "cell_type": "markdown",
   "metadata": {},
   "source": [
    "# Research Question (Eric Young)"
   ]
  },
  {
   "cell_type": "markdown",
   "metadata": {},
   "source": [
    "Do developed countries overall have a different set of statistically significant parameters than developing countries?"
   ]
  },
  {
   "cell_type": "code",
   "execution_count": 1,
   "metadata": {},
   "outputs": [],
   "source": [
    "import pandas as pd\n",
    "data_2015=pd.read_csv('2015.csv')  \n",
    "data_2016=pd.read_csv('2016.csv')  \n",
    "data_2017=pd.read_csv('2017.csv')  \n",
    "data_2018=pd.read_csv('2018.csv')  \n",
    "data_2019=pd.read_csv('2019.csv')  "
   ]
  },
  {
   "cell_type": "code",
   "execution_count": 2,
   "metadata": {},
   "outputs": [
    {
     "data": {
      "text/html": [
       "<div>\n",
       "<style scoped>\n",
       "    .dataframe tbody tr th:only-of-type {\n",
       "        vertical-align: middle;\n",
       "    }\n",
       "\n",
       "    .dataframe tbody tr th {\n",
       "        vertical-align: top;\n",
       "    }\n",
       "\n",
       "    .dataframe thead th {\n",
       "        text-align: right;\n",
       "    }\n",
       "</style>\n",
       "<table border=\"1\" class=\"dataframe\">\n",
       "  <thead>\n",
       "    <tr style=\"text-align: right;\">\n",
       "      <th></th>\n",
       "      <th>Overall rank</th>\n",
       "      <th>Country or region</th>\n",
       "      <th>Score</th>\n",
       "      <th>GDP per capita</th>\n",
       "      <th>Social support</th>\n",
       "      <th>Healthy life expectancy</th>\n",
       "      <th>Freedom to make life choices</th>\n",
       "      <th>Generosity</th>\n",
       "      <th>Perceptions of corruption</th>\n",
       "    </tr>\n",
       "  </thead>\n",
       "  <tbody>\n",
       "    <tr>\n",
       "      <td>0</td>\n",
       "      <td>1</td>\n",
       "      <td>Finland</td>\n",
       "      <td>7.769</td>\n",
       "      <td>1.340</td>\n",
       "      <td>1.587</td>\n",
       "      <td>0.986</td>\n",
       "      <td>0.596</td>\n",
       "      <td>0.153</td>\n",
       "      <td>0.393</td>\n",
       "    </tr>\n",
       "    <tr>\n",
       "      <td>1</td>\n",
       "      <td>2</td>\n",
       "      <td>Denmark</td>\n",
       "      <td>7.600</td>\n",
       "      <td>1.383</td>\n",
       "      <td>1.573</td>\n",
       "      <td>0.996</td>\n",
       "      <td>0.592</td>\n",
       "      <td>0.252</td>\n",
       "      <td>0.410</td>\n",
       "    </tr>\n",
       "    <tr>\n",
       "      <td>2</td>\n",
       "      <td>3</td>\n",
       "      <td>Norway</td>\n",
       "      <td>7.554</td>\n",
       "      <td>1.488</td>\n",
       "      <td>1.582</td>\n",
       "      <td>1.028</td>\n",
       "      <td>0.603</td>\n",
       "      <td>0.271</td>\n",
       "      <td>0.341</td>\n",
       "    </tr>\n",
       "    <tr>\n",
       "      <td>3</td>\n",
       "      <td>4</td>\n",
       "      <td>Iceland</td>\n",
       "      <td>7.494</td>\n",
       "      <td>1.380</td>\n",
       "      <td>1.624</td>\n",
       "      <td>1.026</td>\n",
       "      <td>0.591</td>\n",
       "      <td>0.354</td>\n",
       "      <td>0.118</td>\n",
       "    </tr>\n",
       "    <tr>\n",
       "      <td>4</td>\n",
       "      <td>5</td>\n",
       "      <td>Netherlands</td>\n",
       "      <td>7.488</td>\n",
       "      <td>1.396</td>\n",
       "      <td>1.522</td>\n",
       "      <td>0.999</td>\n",
       "      <td>0.557</td>\n",
       "      <td>0.322</td>\n",
       "      <td>0.298</td>\n",
       "    </tr>\n",
       "  </tbody>\n",
       "</table>\n",
       "</div>"
      ],
      "text/plain": [
       "   Overall rank Country or region  Score  GDP per capita  Social support  \\\n",
       "0             1           Finland  7.769           1.340           1.587   \n",
       "1             2           Denmark  7.600           1.383           1.573   \n",
       "2             3            Norway  7.554           1.488           1.582   \n",
       "3             4           Iceland  7.494           1.380           1.624   \n",
       "4             5       Netherlands  7.488           1.396           1.522   \n",
       "\n",
       "   Healthy life expectancy  Freedom to make life choices  Generosity  \\\n",
       "0                    0.986                         0.596       0.153   \n",
       "1                    0.996                         0.592       0.252   \n",
       "2                    1.028                         0.603       0.271   \n",
       "3                    1.026                         0.591       0.354   \n",
       "4                    0.999                         0.557       0.322   \n",
       "\n",
       "   Perceptions of corruption  \n",
       "0                      0.393  \n",
       "1                      0.410  \n",
       "2                      0.341  \n",
       "3                      0.118  \n",
       "4                      0.298  "
      ]
     },
     "execution_count": 2,
     "metadata": {},
     "output_type": "execute_result"
    }
   ],
   "source": [
    "data_2019.head()"
   ]
  },
  {
   "cell_type": "code",
   "execution_count": 3,
   "metadata": {},
   "outputs": [],
   "source": [
    "freedom_data = pd.read_csv('hfi_cc_2020.csv')"
   ]
  },
  {
   "cell_type": "code",
   "execution_count": 4,
   "metadata": {},
   "outputs": [
    {
     "data": {
      "text/html": [
       "<div>\n",
       "<style scoped>\n",
       "    .dataframe tbody tr th:only-of-type {\n",
       "        vertical-align: middle;\n",
       "    }\n",
       "\n",
       "    .dataframe tbody tr th {\n",
       "        vertical-align: top;\n",
       "    }\n",
       "\n",
       "    .dataframe thead th {\n",
       "        text-align: right;\n",
       "    }\n",
       "</style>\n",
       "<table border=\"1\" class=\"dataframe\">\n",
       "  <thead>\n",
       "    <tr style=\"text-align: right;\">\n",
       "      <th></th>\n",
       "      <th>Unnamed: 0</th>\n",
       "      <th>year</th>\n",
       "      <th>ISO_code</th>\n",
       "      <th>countries</th>\n",
       "      <th>region</th>\n",
       "      <th>hf_score</th>\n",
       "      <th>hf_rank</th>\n",
       "      <th>hf_quartile</th>\n",
       "      <th>pf_rol_procedural</th>\n",
       "      <th>pf_rol_civil</th>\n",
       "      <th>...</th>\n",
       "      <th>ef_regulation_business_bureaucracy</th>\n",
       "      <th>ef_regulation_business_start</th>\n",
       "      <th>ef_regulation_business_bribes</th>\n",
       "      <th>ef_regulation_business_licensing</th>\n",
       "      <th>ef_regulation_business_compliance</th>\n",
       "      <th>ef_regulation_business</th>\n",
       "      <th>ef_regulation</th>\n",
       "      <th>ef_score</th>\n",
       "      <th>ef_rank</th>\n",
       "      <th>womens_freedom</th>\n",
       "    </tr>\n",
       "  </thead>\n",
       "  <tbody>\n",
       "    <tr>\n",
       "      <td>0</td>\n",
       "      <td>0</td>\n",
       "      <td>2018</td>\n",
       "      <td>ALB</td>\n",
       "      <td>Albania</td>\n",
       "      <td>Eastern Europe</td>\n",
       "      <td>7.81</td>\n",
       "      <td>43.0</td>\n",
       "      <td>2.0</td>\n",
       "      <td>6.0</td>\n",
       "      <td>4.8</td>\n",
       "      <td>...</td>\n",
       "      <td>6.7</td>\n",
       "      <td>9.7</td>\n",
       "      <td>5.4</td>\n",
       "      <td>5.6</td>\n",
       "      <td>7.2</td>\n",
       "      <td>6.7</td>\n",
       "      <td>7.7</td>\n",
       "      <td>7.80</td>\n",
       "      <td>26.0</td>\n",
       "      <td>9.26</td>\n",
       "    </tr>\n",
       "    <tr>\n",
       "      <td>1</td>\n",
       "      <td>1</td>\n",
       "      <td>2017</td>\n",
       "      <td>ALB</td>\n",
       "      <td>Albania</td>\n",
       "      <td>Eastern Europe</td>\n",
       "      <td>7.78</td>\n",
       "      <td>44.0</td>\n",
       "      <td>2.0</td>\n",
       "      <td>6.3</td>\n",
       "      <td>4.4</td>\n",
       "      <td>...</td>\n",
       "      <td>6.7</td>\n",
       "      <td>9.7</td>\n",
       "      <td>6.0</td>\n",
       "      <td>6.0</td>\n",
       "      <td>7.2</td>\n",
       "      <td>7.0</td>\n",
       "      <td>7.9</td>\n",
       "      <td>7.70</td>\n",
       "      <td>36.0</td>\n",
       "      <td>9.26</td>\n",
       "    </tr>\n",
       "    <tr>\n",
       "      <td>2</td>\n",
       "      <td>2</td>\n",
       "      <td>2016</td>\n",
       "      <td>ALB</td>\n",
       "      <td>Albania</td>\n",
       "      <td>Eastern Europe</td>\n",
       "      <td>7.63</td>\n",
       "      <td>50.0</td>\n",
       "      <td>2.0</td>\n",
       "      <td>6.7</td>\n",
       "      <td>4.5</td>\n",
       "      <td>...</td>\n",
       "      <td>6.0</td>\n",
       "      <td>9.7</td>\n",
       "      <td>6.0</td>\n",
       "      <td>7.3</td>\n",
       "      <td>7.1</td>\n",
       "      <td>7.0</td>\n",
       "      <td>7.6</td>\n",
       "      <td>7.69</td>\n",
       "      <td>36.0</td>\n",
       "      <td>7.50</td>\n",
       "    </tr>\n",
       "    <tr>\n",
       "      <td>3</td>\n",
       "      <td>3</td>\n",
       "      <td>2015</td>\n",
       "      <td>ALB</td>\n",
       "      <td>Albania</td>\n",
       "      <td>Eastern Europe</td>\n",
       "      <td>7.55</td>\n",
       "      <td>52.0</td>\n",
       "      <td>2.0</td>\n",
       "      <td>6.7</td>\n",
       "      <td>4.5</td>\n",
       "      <td>...</td>\n",
       "      <td>6.0</td>\n",
       "      <td>9.7</td>\n",
       "      <td>6.0</td>\n",
       "      <td>7.3</td>\n",
       "      <td>7.1</td>\n",
       "      <td>7.0</td>\n",
       "      <td>7.7</td>\n",
       "      <td>7.70</td>\n",
       "      <td>34.0</td>\n",
       "      <td>7.50</td>\n",
       "    </tr>\n",
       "    <tr>\n",
       "      <td>4</td>\n",
       "      <td>4</td>\n",
       "      <td>2014</td>\n",
       "      <td>ALB</td>\n",
       "      <td>Albania</td>\n",
       "      <td>Eastern Europe</td>\n",
       "      <td>7.65</td>\n",
       "      <td>48.0</td>\n",
       "      <td>2.0</td>\n",
       "      <td>6.1</td>\n",
       "      <td>4.8</td>\n",
       "      <td>...</td>\n",
       "      <td>6.0</td>\n",
       "      <td>9.7</td>\n",
       "      <td>6.0</td>\n",
       "      <td>7.2</td>\n",
       "      <td>6.0</td>\n",
       "      <td>6.8</td>\n",
       "      <td>7.8</td>\n",
       "      <td>7.65</td>\n",
       "      <td>37.0</td>\n",
       "      <td>7.50</td>\n",
       "    </tr>\n",
       "  </tbody>\n",
       "</table>\n",
       "<p>5 rows × 113 columns</p>\n",
       "</div>"
      ],
      "text/plain": [
       "   Unnamed: 0  year ISO_code countries          region  hf_score  hf_rank  \\\n",
       "0           0  2018      ALB   Albania  Eastern Europe      7.81     43.0   \n",
       "1           1  2017      ALB   Albania  Eastern Europe      7.78     44.0   \n",
       "2           2  2016      ALB   Albania  Eastern Europe      7.63     50.0   \n",
       "3           3  2015      ALB   Albania  Eastern Europe      7.55     52.0   \n",
       "4           4  2014      ALB   Albania  Eastern Europe      7.65     48.0   \n",
       "\n",
       "   hf_quartile  pf_rol_procedural  pf_rol_civil  ...  \\\n",
       "0          2.0                6.0           4.8  ...   \n",
       "1          2.0                6.3           4.4  ...   \n",
       "2          2.0                6.7           4.5  ...   \n",
       "3          2.0                6.7           4.5  ...   \n",
       "4          2.0                6.1           4.8  ...   \n",
       "\n",
       "   ef_regulation_business_bureaucracy  ef_regulation_business_start  \\\n",
       "0                                 6.7                           9.7   \n",
       "1                                 6.7                           9.7   \n",
       "2                                 6.0                           9.7   \n",
       "3                                 6.0                           9.7   \n",
       "4                                 6.0                           9.7   \n",
       "\n",
       "   ef_regulation_business_bribes  ef_regulation_business_licensing  \\\n",
       "0                            5.4                               5.6   \n",
       "1                            6.0                               6.0   \n",
       "2                            6.0                               7.3   \n",
       "3                            6.0                               7.3   \n",
       "4                            6.0                               7.2   \n",
       "\n",
       "   ef_regulation_business_compliance  ef_regulation_business  ef_regulation  \\\n",
       "0                                7.2                     6.7            7.7   \n",
       "1                                7.2                     7.0            7.9   \n",
       "2                                7.1                     7.0            7.6   \n",
       "3                                7.1                     7.0            7.7   \n",
       "4                                6.0                     6.8            7.8   \n",
       "\n",
       "   ef_score  ef_rank  womens_freedom  \n",
       "0      7.80     26.0            9.26  \n",
       "1      7.70     36.0            9.26  \n",
       "2      7.69     36.0            7.50  \n",
       "3      7.70     34.0            7.50  \n",
       "4      7.65     37.0            7.50  \n",
       "\n",
       "[5 rows x 113 columns]"
      ]
     },
     "execution_count": 4,
     "metadata": {},
     "output_type": "execute_result"
    }
   ],
   "source": [
    "freedom_data.head()"
   ]
  },
  {
   "cell_type": "markdown",
   "metadata": {},
   "source": [
    "### Developed v.s. Developing Countries"
   ]
  },
  {
   "cell_type": "markdown",
   "metadata": {},
   "source": [
    "Most commonly, the criteria for evaluating the degree of economic development are gross domestic product (GDP), gross national product (GNP), the per capita income, level of industrialization, amount of widespread infrastructure and general standard of living."
   ]
  },
  {
   "cell_type": "markdown",
   "metadata": {},
   "source": [
    "# Methods (2019 Happiness Data)"
   ]
  },
  {
   "cell_type": "markdown",
   "metadata": {},
   "source": [
    "### I. Theory"
   ]
  },
  {
   "cell_type": "markdown",
   "metadata": {},
   "source": [
    "We employed the k-means clustering algorithm to efficiently group the countries into multiple clusters with distinct characteristics. The general idea of the k-means clustering algorithm is to partition points into k-clusters c1, c2, …, ck and find the corresponding k center points z1, z2, …, zk in order to minimize the cost function. \n",
    "\n",
    "More precisely, the k-means clustering algorithm (Figure 6) follows the following 3 iterative steps:\n",
    "1. Initialization:\n",
    "- To start the algorithm, randomly select k data points from the dataset as initial centroids. Note that centroids are the centers of clusters. In this case, since we have no information indicating the location of cluster centers, we arbitrarily define them. \n",
    "2. Cluster Assignment:\n",
    "- Calculate the Euclidean distances of each data point from each centroid, assigning all the data points that are closest to a centroid to a cluster. \n",
    "3. Centroid Movement:\n",
    "- Calculate the new centroid of each cluster, which is the mean of all data points in the cluster. Repeat steps 2 and 3 until the algorithm converges to acquire the final clustering assignments. \n",
    "\n",
    "Lastly, we used the elbow method, which runs the k-means clustering algorithm with different numbers of clusters and finds the within-cluster sum of squares (measures within-cluster variance), to determine the ideal number of clusters to choose. "
   ]
  },
  {
   "attachments": {
    "kmeansclustering.jpg": {
     "image/jpeg": "[encoded data removed]"
    }
   },
   "cell_type": "markdown",
   "metadata": {},
   "source": [
    "![kmeansclustering.jpg](attachment:kmeansclustering.jpg)"
   ]
  },
  {
   "cell_type": "markdown",
   "metadata": {},
   "source": [
    "### II. Code"
   ]
  },
  {
   "cell_type": "markdown",
   "metadata": {},
   "source": [
    "#### Data Preprocessing \n",
    "Upon data mining, we normalized the data (rescaled numeric values into the range 0 and 1) to ensure that every attribute contributed equally to determining the distance between points. We chose normalization over standardization because our input attributes rely on the magnitude of values instead of the distribution of Gaussian processes. "
   ]
  },
  {
   "cell_type": "code",
   "execution_count": 5,
   "metadata": {},
   "outputs": [],
   "source": [
    "# copy dataframe columns to attribute variables\n",
    "country = data_2019.iloc[:,1].copy()\n",
    "score = data_2019.iloc[:,2].copy()\n",
    "gdp = data_2019.iloc[:,3].copy()\n",
    "social = data_2019.iloc[:,4].copy()\n",
    "life_exp = data_2019.iloc[:,5].copy()\n",
    "freedom = data_2019.iloc[:,6].copy()\n",
    "genorosity = data_2019.iloc[:,7].copy()\n",
    "corruption = data_2019.iloc[:,8].copy()"
   ]
  },
  {
   "cell_type": "code",
   "execution_count": 6,
   "metadata": {},
   "outputs": [],
   "source": [
    "from sklearn import preprocessing\n",
    "# 7 dimensional attribute list \n",
    "attributes = []\n",
    "for i in range(len(country)):\n",
    "    attributes.append([score[i], gdp[i], social[i], life_exp[i], freedom[i], genorosity[i], corruption[i]])\n",
    "# normalization\n",
    "normalized_attributes = preprocessing.normalize(attributes)"
   ]
  },
  {
   "cell_type": "markdown",
   "metadata": {},
   "source": [
    "#### Selecting the Ideal Number of Clusters (Elbow Plot)\n",
    "To select the ideal number of clusters for the k-means clustering algorithm to find, we use the elbow method and notice that “elbow of the curve” is around 3 clusters. To minimize the within-cluster sum of squares error while drawing useful conclusions, we choose 3 clusters for our algorithm. "
   ]
  },
  {
   "cell_type": "code",
   "execution_count": 22,
   "metadata": {},
   "outputs": [
    {
     "data": {
      "image/png": "[encoded data removed]",
      "text/plain": [
       "<Figure size 432x288 with 1 Axes>"
      ]
     },
     "metadata": {
      "needs_background": "light"
     },
     "output_type": "display_data"
    }
   ],
   "source": [
    "# elbow plot\n",
    "from sklearn.cluster import KMeans\n",
    "import matplotlib.pyplot as plt\n",
    "Error = []\n",
    "for i in range(1, 11):\n",
    "    kmeans = KMeans(n_clusters = i).fit(normalized_attributes)\n",
    "    kmeans.fit(normalized_attributes)\n",
    "    Error.append(kmeans.inertia_)\n",
    "plt.plot(range(1,11), Error)\n",
    "plt.title(\"Elbow Plot\")\n",
    "plt.xlabel(\"No. of clusters\")\n",
    "plt.ylabel(\"Error\")\n",
    "plt.show()"
   ]
  },
  {
   "cell_type": "markdown",
   "metadata": {},
   "source": [
    "#### Implementing the K-Means Clustering Algorithm\n",
    "We proceed to implement the k-means clustering algorithm with 3 clusters and a convergence criterion of 0.001. Note that the convergence criterion, which determines when iteration ceases, represents a proportion of the minimum distance between initial cluster centers."
   ]
  },
  {
   "cell_type": "code",
   "execution_count": 8,
   "metadata": {},
   "outputs": [
    {
     "name": "stdout",
     "output_type": "stream",
     "text": [
      "Cluster Assignments: [0 0 0 0 0 0 0 0 0 0 0 2 0 0 0 0 0 0 0 0 0 0 0 0 0 0 2 0 0 0 0 0 0 0 2 0 0\n",
      " 0 0 0 2 0 0 0 2 2 0 0 0 2 0 0 0 0 0 2 0 0 2 0 2 0 2 0 0 0 1 0 2 0 2 0 0 1\n",
      " 0 0 0 0 0 0 0 0 0 0 1 2 0 0 0 0 0 2 0 2 2 1 0 1 1 2 0 1 1 0 2 0 0 0 2 2 2\n",
      " 1 0 1 1 0 0 1 0 1 2 2 1 0 2 0 1 2 1 0 2 1 0 2 2 2 0 2 1 0 1 1 2 2 1 2 1 0\n",
      " 1 1 2 2 2 1 1 1]\n"
     ]
    }
   ],
   "source": [
    "import numpy as np \n",
    "kmeans3 = KMeans(n_clusters = 3, tol=0.001)\n",
    "clusters = kmeans3.fit_predict(normalized_attributes)\n",
    "print(\"Cluster Assignments: \" + str(clusters))"
   ]
  },
  {
   "cell_type": "markdown",
   "metadata": {},
   "source": [
    "### Results"
   ]
  },
  {
   "cell_type": "markdown",
   "metadata": {},
   "source": [
    "#### Country Groupings"
   ]
  },
  {
   "cell_type": "code",
   "execution_count": 10,
   "metadata": {},
   "outputs": [
    {
     "name": "stdout",
     "output_type": "stream",
     "text": [
      "Group 0 Countries: ['Finland', 'Denmark', 'Norway', 'Iceland', 'Netherlands', 'Switzerland', 'Sweden', 'New Zealand', 'Canada', 'Austria', 'Australia', 'Israel', 'Luxembourg', 'United Kingdom', 'Ireland', 'Germany', 'Belgium', 'United States', 'Czech Republic', 'United Arab Emirates', 'Malta', 'Mexico', 'France', 'Taiwan', 'Chile', 'Saudi Arabia', 'Qatar', 'Spain', 'Panama', 'Brazil', 'Uruguay', 'Singapore', 'Italy', 'Bahrain', 'Slovakia', 'Trinidad & Tobago', 'Poland', 'Lithuania', 'Colombia', 'Slovenia', 'Argentina', 'Romania', 'Cyprus', 'Kuwait', 'Thailand', 'Latvia', 'South Korea', 'Estonia', 'Mauritius', 'Japan', 'Kazakhstan', 'Hungary', 'Northern Cyprus', 'Peru', 'Portugal', 'Russia', 'Serbia', 'Libya', 'Montenegro', 'Croatia', 'Hong Kong', 'Dominican Republic', 'Bosnia and Herzegovina', 'Turkey', 'Malaysia', 'Belarus', 'Greece', 'Mongolia', 'North Macedonia', 'Turkmenistan', 'Algeria', 'Morocco', 'Azerbaijan', 'Lebanon', 'China', 'Bulgaria', 'Jordan', 'Gabon', 'South Africa', 'Albania', 'Venezuela', 'Namibia', 'Armenia', 'Iran', 'Georgia', 'Tunisia', 'Iraq', 'Sri Lanka', 'Ukraine', 'Egypt', 'India', 'Botswana']\n",
      "Group 1 Countries: ['Pakistan', 'Tajikistan', 'Nigeria', 'Cameroon', 'Ghana', 'Ivory Coast', 'Benin', 'Congo (Brazzaville)', 'Somalia', 'Niger', 'Burkina Faso', 'Guinea', 'Gambia', 'Mozambique', 'Congo (Kinshasa)', 'Sierra Leone', 'Chad', 'Togo', 'Liberia', 'Comoros', 'Burundi', 'Haiti', 'Syria', 'Malawi', 'Afghanistan', 'Central African Republic', 'South Sudan']\n",
      "Group 2 Countries: ['Costa Rica', 'Guatemala', 'El Salvador', 'Uzbekistan', 'Nicaragua', 'Kosovo', 'Ecuador', 'Jamaica', 'Honduras', 'Bolivia', 'Paraguay', 'Philippines', 'Moldova', 'Kyrgyzstan', 'Indonesia', 'Vietnam', 'Bhutan', 'Nepal', 'Laos', 'Cambodia', 'Palestinian Territories', 'Senegal', 'Kenya', 'Mauritania', 'Bangladesh', 'Mali', 'Myanmar', 'Ethiopia', 'Swaziland', 'Uganda', 'Zambia', 'Madagascar', 'Lesotho', 'Zimbabwe', 'Yemen', 'Rwanda', 'Tanzania']\n"
     ]
    }
   ],
   "source": [
    "group_0_countries = []\n",
    "group_1_countries = []\n",
    "group_2_countries = []\n",
    "for i in range(len(clusters)):\n",
    "    if clusters[i] == 0: \n",
    "        group_0_countries.append(country[i])\n",
    "    elif clusters[i] == 1:\n",
    "        group_1_countries.append(country[i])\n",
    "    elif clusters[i] == 2:\n",
    "        group_2_countries.append(country[i])\n",
    "print(\"Group 0 Countries: \" + str(group_0_countries))\n",
    "print(\"Group 1 Countries: \" + str(group_1_countries))\n",
    "print(\"Group 2 Countries: \" + str(group_2_countries))"
   ]
  },
  {
   "cell_type": "markdown",
   "metadata": {},
   "source": [
    "#### Summary Statistics for Each Group"
   ]
  },
  {
   "cell_type": "code",
   "execution_count": 11,
   "metadata": {},
   "outputs": [],
   "source": [
    "group_0_stats = []\n",
    "group_1_stats = []\n",
    "group_2_stats = []\n",
    "for i in range(len(clusters)):\n",
    "    if clusters[i] == 0: \n",
    "        group_0_stats.append([score[i], gdp[i], social[i], life_exp[i], freedom[i], genorosity[i], corruption[i]])\n",
    "    elif clusters[i] == 1:\n",
    "        group_1_stats.append([score[i], gdp[i], social[i], life_exp[i], freedom[i], genorosity[i], corruption[i]])\n",
    "    elif clusters[i] == 2:\n",
    "        group_2_stats.append([score[i], gdp[i], social[i], life_exp[i], freedom[i], genorosity[i], corruption[i]])"
   ]
  },
  {
   "cell_type": "markdown",
   "metadata": {},
   "source": [
    "#### Group 0"
   ]
  },
  {
   "cell_type": "code",
   "execution_count": 19,
   "metadata": {},
   "outputs": [
    {
     "name": "stdout",
     "output_type": "stream",
     "text": [
      "Score Mean: 5.901663043478262\n",
      "Score SD: 0.9505040456558449\n",
      "\n",
      "\n",
      "GDP Mean: 1.179945652173913\n",
      "GDP SD: 0.2003505820854184\n",
      "\n",
      "\n",
      "Social Support Mean: 1.3495760869565216\n",
      "Social Support SD: 0.1969450504745606\n",
      "\n",
      "\n",
      "Life Expectancy Mean: 0.8675760869565217\n",
      "Life Expectancy SD: 0.14198095659933416\n",
      "\n",
      "\n",
      "Generosity Mean: 0.16431521739130434\n",
      "Generosity SD: 0.09228805676036805\n",
      "\n",
      "\n",
      "Corruption Mean: 0.12126086956521738\n",
      "Corruption SD: 0.10903488368459618\n"
     ]
    }
   ],
   "source": [
    "# group 0 summary statistics\n",
    "group_0_score = [i[0] for i in group_0_stats]\n",
    "group_0_gdp = [i[1] for i in group_0_stats]\n",
    "group_0_social = [i[2] for i in group_0_stats]\n",
    "group_0_life_exp = [i[3] for i in group_0_stats]\n",
    "group_0_freedom = [i[4] for i in group_0_stats]\n",
    "group_0_generosity = [i[5] for i in group_0_stats]\n",
    "group_0_corruption = [i[6] for i in group_0_stats]\n",
    "\n",
    "print(\"Score Mean: \" + str(np.mean(group_0_score)))\n",
    "print(\"Score SD: \" + str(np.std(group_0_score)))\n",
    "print(\"\\n\")\n",
    "print(\"GDP Mean: \" + str(np.mean(group_0_gdp)))\n",
    "print(\"GDP SD: \" + str(np.std(group_0_gdp)))\n",
    "print(\"\\n\")\n",
    "print(\"Social Support Mean: \" + str(np.mean(group_0_social)))\n",
    "print(\"Social Support SD: \" + str(np.std(group_0_social)))\n",
    "print(\"\\n\")\n",
    "print(\"Life Expectancy Mean: \" + str(np.mean(group_0_life_exp)))\n",
    "print(\"Life Expectancy SD: \" + str(np.std(group_0_life_exp)))\n",
    "print(\"\\n\")\n",
    "print(\"Generosity Mean: \" + str(np.mean(group_0_generosity)))\n",
    "print(\"Generosity SD: \" + str(np.std(group_0_generosity)))\n",
    "print(\"\\n\")\n",
    "print(\"Corruption Mean: \" + str(np.mean(group_0_corruption)))\n",
    "print(\"Corruption SD: \" + str(np.std(group_0_corruption)))"
   ]
  },
  {
   "cell_type": "markdown",
   "metadata": {},
   "source": [
    "#### Group 1"
   ]
  },
  {
   "cell_type": "code",
   "execution_count": 20,
   "metadata": {},
   "outputs": [
    {
     "name": "stdout",
     "output_type": "stream",
     "text": [
      "Score Mean: 4.3341111111111115\n",
      "Score SD: 0.7181389700099233\n",
      "\n",
      "\n",
      "GDP Mean: 0.3413703703703703\n",
      "GDP SD: 0.20699063284373043\n",
      "\n",
      "\n",
      "Social Support Mean: 0.7535925925925926\n",
      "Social Support SD: 0.2535258419524978\n",
      "\n",
      "\n",
      "Life Expectancy Mean: 0.3827037037037037\n",
      "Life Expectancy SD: 0.12230617767469348\n",
      "\n",
      "\n",
      "Generosity Mean: 0.21844444444444447\n",
      "Generosity SD: 0.058610663505399854\n",
      "\n",
      "\n",
      "Corruption Mean: 0.09422222222222223\n",
      "Corruption SD: 0.05337243936668642\n"
     ]
    }
   ],
   "source": [
    "# group 0 summary statistics\n",
    "group_1_score = [i[0] for i in group_1_stats]\n",
    "group_1_gdp = [i[1] for i in group_1_stats]\n",
    "group_1_social = [i[2] for i in group_1_stats]\n",
    "group_1_life_exp = [i[3] for i in group_1_stats]\n",
    "group_1_freedom = [i[4] for i in group_1_stats]\n",
    "group_1_generosity = [i[5] for i in group_1_stats]\n",
    "group_1_corruption = [i[6] for i in group_1_stats]\n",
    "\n",
    "print(\"Score Mean: \" + str(np.mean(group_1_score)))\n",
    "print(\"Score SD: \" + str(np.std(group_1_score)))\n",
    "print(\"\\n\")\n",
    "print(\"GDP Mean: \" + str(np.mean(group_1_gdp)))\n",
    "print(\"GDP SD: \" + str(np.std(group_1_gdp)))\n",
    "print(\"\\n\")\n",
    "print(\"Social Support Mean: \" + str(np.mean(group_1_social)))\n",
    "print(\"Social Support SD: \" + str(np.std(group_1_social)))\n",
    "print(\"\\n\")\n",
    "print(\"Life Expectancy Mean: \" + str(np.mean(group_1_life_exp)))\n",
    "print(\"Life Expectancy SD: \" + str(np.std(group_1_life_exp)))\n",
    "print(\"\\n\")\n",
    "print(\"Generosity Mean: \" + str(np.mean(group_1_generosity)))\n",
    "print(\"Generosity SD: \" + str(np.std(group_1_generosity)))\n",
    "print(\"\\n\")\n",
    "print(\"Corruption Mean: \" + str(np.mean(group_1_corruption)))\n",
    "print(\"Corruption SD: \" + str(np.std(group_1_corruption)))"
   ]
  },
  {
   "cell_type": "markdown",
   "metadata": {},
   "source": [
    "#### Group 2"
   ]
  },
  {
   "cell_type": "code",
   "execution_count": 21,
   "metadata": {},
   "outputs": [
    {
     "name": "stdout",
     "output_type": "stream",
     "text": [
      "Score Mean: 4.960351351351351\n",
      "Score SD: 0.9591030217249644\n",
      "\n",
      "\n",
      "GDP Mean: 0.6332702702702702\n",
      "GDP SD: 0.2004677838441539\n",
      "\n",
      "\n",
      "Social Support Mean: 1.1909999999999998\n",
      "Social Support SD: 0.17562921630987718\n",
      "\n",
      "\n",
      "Life Expectancy Mean: 0.6212972972972973\n",
      "Life Expectancy SD: 0.19428842656061143\n",
      "\n",
      "\n",
      "Generosity Mean: 0.21137837837837833\n",
      "Generosity SD: 0.10839750454676038\n",
      "\n",
      "\n",
      "Corruption Mean: 0.09605405405405405\n",
      "Corruption SD: 0.07149104874830284\n"
     ]
    }
   ],
   "source": [
    "# group 0 summary statistics\n",
    "group_2_score = [i[0] for i in group_2_stats]\n",
    "group_2_gdp = [i[1] for i in group_2_stats]\n",
    "group_2_social = [i[2] for i in group_2_stats]\n",
    "group_2_life_exp = [i[3] for i in group_2_stats]\n",
    "group_2_freedom = [i[4] for i in group_2_stats]\n",
    "group_2_generosity = [i[5] for i in group_2_stats]\n",
    "group_2_corruption = [i[6] for i in group_2_stats]\n",
    "\n",
    "print(\"Score Mean: \" + str(np.mean(group_2_score)))\n",
    "print(\"Score SD: \" + str(np.std(group_2_score)))\n",
    "print(\"\\n\")\n",
    "print(\"GDP Mean: \" + str(np.mean(group_2_gdp)))\n",
    "print(\"GDP SD: \" + str(np.std(group_2_gdp)))\n",
    "print(\"\\n\")\n",
    "print(\"Social Support Mean: \" + str(np.mean(group_2_social)))\n",
    "print(\"Social Support SD: \" + str(np.std(group_2_social)))\n",
    "print(\"\\n\")\n",
    "print(\"Life Expectancy Mean: \" + str(np.mean(group_2_life_exp)))\n",
    "print(\"Life Expectancy SD: \" + str(np.std(group_2_life_exp)))\n",
    "print(\"\\n\")\n",
    "print(\"Generosity Mean: \" + str(np.mean(group_2_generosity)))\n",
    "print(\"Generosity SD: \" + str(np.std(group_2_generosity)))\n",
    "print(\"\\n\")\n",
    "print(\"Corruption Mean: \" + str(np.mean(group_2_corruption)))\n",
    "print(\"Corruption SD: \" + str(np.std(group_2_corruption)))"
   ]
  },
  {
   "cell_type": "markdown",
   "metadata": {},
   "source": [
    "#### Horizontal Comparsion Among Clustering Groups"
   ]
  },
  {
   "attachments": {
    "clustering_results.png": {
     "image/png": "[encoded data removed]"
    }
   },
   "cell_type": "markdown",
   "metadata": {},
   "source": [
    "![clustering_results.png](attachment:clustering_results.png)"
   ]
  }
 ],
 "metadata": {
  "kernelspec": {
   "display_name": "Python 3",
   "language": "python",
   "name": "python3"
  },
  "language_info": {
   "codemirror_mode": {
    "name": "ipython",
    "version": 3
   },
   "file_extension": ".py",
   "mimetype": "text/x-python",
   "name": "python",
   "nbconvert_exporter": "python",
   "pygments_lexer": "ipython3",
   "version": "3.7.4"
  }
 },
 "nbformat": 4,
 "nbformat_minor": 2
}
